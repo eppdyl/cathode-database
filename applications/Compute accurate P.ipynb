{
 "cells": [
  {
   "cell_type": "code",
   "execution_count": 1,
   "metadata": {
    "collapsed": true
   },
   "outputs": [],
   "source": [
    "# MIT License\n",
    "# \n",
    "# Copyright (c) 2018-2021 Pierre-Yves Taunay \n",
    "# \n",
    "# Permission is hereby granted, free of charge, to any person obtaining a copy\n",
    "# of this software and associated documentation files (the \"Software\"), to deal\n",
    "# in the Software without restriction, including without limitation the rights\n",
    "# to use, copy, modify, merge, publish, distribute, sublicense, and/or sell\n",
    "# copies of the Software, and to permit persons to whom the Software is\n",
    "# furnished to do so, subject to the following conditions:\n",
    "# \n",
    "# The above copyright notice and this permission notice shall be included in all\n",
    "# copies or substantial portions of the Software.\n",
    "# \n",
    "# THE SOFTWARE IS PROVIDED \"AS IS\", WITHOUT WARRANTY OF ANY KIND, EXPRESS OR\n",
    "# IMPLIED, INCLUDING BUT NOT LIMITED TO THE WARRANTIES OF MERCHANTABILITY,\n",
    "# FITNESS FOR A PARTICULAR PURPOSE AND NONINFRINGEMENT. IN NO EVENT SHALL THE\n",
    "# AUTHORS OR COPYRIGHT HOLDERS BE LIABLE FOR ANY CLAIM, DAMAGES OR OTHER\n",
    "# LIABILITY, WHETHER IN AN ACTION OF CONTRACT, TORT OR OTHERWISE, ARISING FROM,\n",
    "# OUT OF OR IN CONNECTION WITH THE SOFTWARE OR THE USE OR OTHER DEALINGS IN THE\n",
    "# SOFTWARE."
   ]
  },
  {
   "cell_type": "code",
   "execution_count": 2,
   "metadata": {},
   "outputs": [
    {
     "data": {
      "text/plain": [
       "'\\nFile: Compute Accurate P.ipynb\\nAuthor: Pierre-Yves Taunay\\nDate: 2018\\n\\nCalculate the accurate version of the pressure correlation, based on the results from the least-squares analysis.\\n'"
      ]
     },
     "execution_count": 2,
     "metadata": {},
     "output_type": "execute_result"
    }
   ],
   "source": [
    "\"\"\"\n",
    "File: Compute Accurate P.ipynb\n",
    "Author: Pierre-Yves Taunay\n",
    "Date: 2018\n",
    "\n",
    "Calculate the accurate version of the pressure correlation, based on the results from the least-squares analysis.\n",
    "\"\"\""
   ]
  },
  {
   "cell_type": "code",
   "execution_count": 3,
   "metadata": {
    "collapsed": true
   },
   "outputs": [],
   "source": [
    "# Imports. \n",
    "%matplotlib inline\n",
    "from sympy import *\n",
    "init_printing(use_latex=True) # Make printing pretty\n",
    "import mpmath\n",
    "\n",
    "import cathode.constants as cs\n",
    "import cathode.models.flow as cmf\n",
    "import numpy as np"
   ]
  },
  {
   "cell_type": "code",
   "execution_count": 4,
   "metadata": {
    "collapsed": true
   },
   "outputs": [],
   "source": [
    "# Define symbols we will use\n",
    "P,do,dc,q,mdot,Id,mu,mu0,eps,a,M,Lo,pi = symbols('P,d_o,d_c,q,\\dot{m},I_d,\\mu,\\mu0,\\epsilon,a,M,L_o,\\pi',real=True,positive=True)"
   ]
  },
  {
   "cell_type": "code",
   "execution_count": 5,
   "metadata": {
    "collapsed": true
   },
   "outputs": [],
   "source": [
    "# Define the Pi products\n",
    "PI1 = (P/(mu0*Id**2/(pi**2*do**2)))\n",
    "PI2 = (do/dc)\n",
    "PI3 = (do/Lo)\n",
    "PI4 = ((mdot*q/(M*Id))**2 * (M*do/(mu0*q**2)))\n",
    "PI5 = (mdot*a/(mu0*Id**2)) * 4*pi\n",
    "PI6 = (q*eps/(do**2*Lo))*1/(mu0*Id**2/do**2) * (Lo/do) * 4*pi\n",
    "PI7 = (mdot/(pi*(do/2)**2)*do/mu)\n",
    "\n",
    "\n",
    "\n"
   ]
  },
  {
   "cell_type": "code",
   "execution_count": 6,
   "metadata": {
    "collapsed": true
   },
   "outputs": [],
   "source": [
    "### LEAST SQUARES METHOD\n",
    "### Exponents from the least squares analysis (beta vector)\n",
    "Cfit_l = 10**7.0639102021599545\n",
    "e1 = 0.78967753163551446\n",
    "e2 = 0.22577194077376095\n",
    "e3 = -0.26766913155894489\n",
    "e4 = 0.81622790719254079\n",
    "e5 = 0.25441804916181782\n",
    "e6 = 0.40591950688859579  \n",
    "    \n",
    "### Power law\n",
    "prod = (mu0*Id**2.0/(pi**2.0*do**2.0))*PI2**e1*PI3**e2*PI4**e3*PI5**e4*PI6**e5*PI7**e6"
   ]
  },
  {
   "cell_type": "code",
   "execution_count": 7,
   "metadata": {},
   "outputs": [
    {
     "data": {
      "image/png": "[encoded data removed]",
      "text/latex": [
       "$\\displaystyle \\frac{1.27554360581865 \\cdot 10^{-8} I_{d}^{0.394046350409172} Tg^{0.40811395359627} \\dot{m}^{0.686809150963247} \\epsilon^{0.254418049161818}}{L_{o}^{0.225771940773761} M^{0.140444822037326} \\mu^{0.405919506888596} d_{c}^{0.789677531635514} d_{o}^{1.91255721520008}}$"
      ],
      "text/plain": [
       "                       0.394046350409172   -0.225771940773761  -0.140444822037\n",
       "1.27554360581865e-8⋅I_d                 ⋅Lₒ                  ⋅M               \n",
       "\n",
       "326   0.40811395359627        0.686809150963247         0.254418049161818    -\n",
       "   ⋅Tg                ⋅\\dot{m}                 ⋅\\epsilon                 ⋅\\mu \n",
       "\n",
       "0.405919506888596    -0.789677531635514   -1.91255721520008\n",
       "                 ⋅d_c                  ⋅dₒ                 "
      ]
     },
     "execution_count": 7,
     "metadata": {},
     "output_type": "execute_result"
    }
   ],
   "source": [
    "### Pressure expression without the speed of sound\n",
    "gam,kb,Tg,Mamu,C_fit = symbols('\\gamma,k_B,Tg,M_a,C_f',real=True,positive=True)\n",
    "prod_noa = C_fit*prod.subs(a,sqrt(gam*kb/M*Tg))\n",
    "#prod_noa = C_fit*prod.subs(a,sqrt(gam*cs.gas_constant*1e3/(M/cs.atomic_mass)*Tg))\n",
    "prod_noa.subs([(mu0,4*np.pi*10**(-7)),(q,cs.e),(pi,np.pi),(gam,5/3),(kb,cs.Boltzmann),(C_fit,Cfit_l)])"
   ]
  },
  {
   "cell_type": "code",
   "execution_count": 8,
   "metadata": {
    "collapsed": true
   },
   "outputs": [],
   "source": [
    "### Same as above\n",
    "prod_SI = prod_noa.subs([(mu0,4*np.pi*10**(-7)),(q,cs.e),(pi,np.pi),(gam,5/3),(kb,cs.Boltzmann),(C_fit,Cfit_l)])"
   ]
  },
  {
   "cell_type": "code",
   "execution_count": 9,
   "metadata": {
    "collapsed": true
   },
   "outputs": [],
   "source": [
    "### Pressure expression, in Torr\n",
    "Locm,docm,dccm,mdsccm = symbols('L_{ocm},d_{ocm},d_{ccm},\\dot{m}_s')\n",
    "prod_Torr = prod_SI.subs([(mdot,mdsccm*0.07174496*M/cs.e),(M,Mamu*cs.atomic_mass),(do,docm*1e-2),(dc,dccm*1e-2),(Lo,Locm*1e-2)])*760/101325"
   ]
  },
  {
   "cell_type": "code",
   "execution_count": 10,
   "metadata": {},
   "outputs": [
    {
     "data": {
      "image/png": "[encoded data removed]",
      "text/latex": [
       "$\\displaystyle \\frac{2.12926144880254 \\cdot 10^{-7} I_{d}^{0.394046350409172} M_{a}^{0.546364328925921} Tg^{0.40811395359627} \\dot{m}_s^{0.686809150963247} \\epsilon^{0.254418049161818}}{L_{ocm}^{0.225771940773761} \\mu^{0.405919506888596} d_{ccm}^{0.789677531635514} d_{ocm}^{1.91255721520008}}$"
      ],
      "text/plain": [
       "                       0.394046350409172        -0.225771940773761   0.5463643\n",
       "2.12926144880254e-7⋅I_d                 ⋅L_{ocm}                  ⋅Mₐ         \n",
       "\n",
       "28925921   0.40811395359627         0.686809150963247         0.25441804916181\n",
       "        ⋅Tg                ⋅\\dot{m}ₛ                 ⋅\\epsilon                \n",
       "\n",
       "8    -0.405919506888596        -0.789677531635514        -1.91255721520008\n",
       " ⋅\\mu                  ⋅d_{ccm}                  ⋅d_{ocm}                 "
      ]
     },
     "execution_count": 10,
     "metadata": {},
     "output_type": "execute_result"
    }
   ],
   "source": [
    "prod_Torr = prod_SI.subs([(mdot,mdsccm*0.07174496*M/cs.e),(M,Mamu*cs.atomic_mass),(do,docm*1e-2),(dc,dccm*1e-2),(Lo,Locm*1e-2)])*760/101325\n",
    "prod_Torr"
   ]
  },
  {
   "cell_type": "code",
   "execution_count": null,
   "metadata": {
    "collapsed": true
   },
   "outputs": [],
   "source": [
    "### Below are example calculations using the correlations and other models"
   ]
  },
  {
   "cell_type": "code",
   "execution_count": null,
   "metadata": {
    "collapsed": true
   },
   "outputs": [],
   "source": [
    "prod_Torr.subs([(Id,10),(Tg,4443.663),(mdsccm,10),(Locm,0.074),(Mamu,131.293),(eps,12.1298),(mu,1.6538e-4),(dccm,0.38),(docm,0.104)])"
   ]
  },
  {
   "cell_type": "code",
   "execution_count": null,
   "metadata": {
    "collapsed": true
   },
   "outputs": [],
   "source": [
    "mu_n = cmf.viscosity(3000,'Xe',units='Pa-s')\n",
    "prod_Torr.subs([(Id,22),(Tg,3000),(mdsccm,5.5),(Locm,0.074),(Mamu,131.293),(eps,12.128),(mu,mu_n),(dccm,1.27),(docm,0.25)])"
   ]
  },
  {
   "cell_type": "code",
   "execution_count": null,
   "metadata": {
    "collapsed": true
   },
   "outputs": [],
   "source": [
    "mu_n"
   ]
  },
  {
   "cell_type": "code",
   "execution_count": null,
   "metadata": {
    "collapsed": true
   },
   "outputs": [],
   "source": [
    "mdot_sccm = 5.5\n",
    "M_n = 131.293*cs.atomic_mass\n",
    "mdot_n = mdot_sccm *M_n/cs.e * cs.sccm2eqA\n",
    "prod_SI.subs([(Id,22),(Tg,3000),(mdot,mdot_n),(Lo,0.74e-3),(M,M_n),(eps,12.128),(mu,mu_n),(dc,1.27e-2),(do,2.5e-3)])*760/101325"
   ]
  },
  {
   "cell_type": "code",
   "execution_count": null,
   "metadata": {
    "collapsed": true
   },
   "outputs": [],
   "source": [
    "prod_SI"
   ]
  },
  {
   "cell_type": "code",
   "execution_count": null,
   "metadata": {
    "collapsed": true
   },
   "outputs": [],
   "source": [
    "TgK = 4000\n",
    "mu_n = cmf.viscosity(TgK,'Xe',units='Pa-s')\n",
    "Idvec = np.arange(8.0,27.0,1)\n",
    "resvec = np.zeros_like(Idvec)\n",
    "for idx,Idv in enumerate(Idvec):\n",
    "    resvec[idx] = prod_Torr.subs([(Id,Idv),(Tg,TgK),(mdsccm,5.5),(Locm,0.074),(Mamu,131.293),(eps,12.128),(mu,mu_n),(dccm,1.27),(docm,0.25)])\n",
    "    print(Idv,resvec[idx])"
   ]
  },
  {
   "cell_type": "code",
   "execution_count": null,
   "metadata": {
    "collapsed": true,
    "scrolled": true
   },
   "outputs": [],
   "source": [
    "TgK = 4000\n",
    "mu_n = cmf.viscosity(TgK,'Xe',units='Pa-s')\n",
    "mdotvec = np.arange(4.0,11.0,1)\n",
    "resvec = np.zeros_like(mdotvec)\n",
    "for idx,mdot in enumerate(mdotvec):\n",
    "    resvec[idx] = prod_Torr.subs([(Id,22),(Tg,TgK),(mdsccm,mdot),(Locm,0.074),(Mamu,131.293),(eps,12.128),(mu,mu_n),(dccm,1.27),(docm,0.25)])\n",
    "    print(mdot,resvec[idx])"
   ]
  },
  {
   "cell_type": "code",
   "execution_count": null,
   "metadata": {
    "collapsed": true,
    "scrolled": false
   },
   "outputs": [],
   "source": [
    "mu_n = cmf.viscosity(4000,'Xe',units='Pa-s')\n",
    "mdotvec = np.arange(4.0,12.0,1)\n",
    "resvec = np.zeros_like(mdotvec)\n",
    "for idx,mdot in enumerate(mdotvec):\n",
    "    resvec[idx] = prod_Torr.subs([(Id,22),(Tg,4000),(mdsccm,mdot),(Locm,0.074),(Mamu,131.293),(eps,12.128),(mu,mu_n),(dccm,1.27),(docm,0.25)])\n",
    "    print(mdot,resvec[idx])"
   ]
  },
  {
   "cell_type": "code",
   "execution_count": null,
   "metadata": {
    "collapsed": true
   },
   "outputs": [],
   "source": [
    "Cfit_l*1e-7"
   ]
  },
  {
   "cell_type": "code",
   "execution_count": null,
   "metadata": {
    "collapsed": true
   },
   "outputs": [],
   "source": [
    "# NSTAR at 4000 K\n",
    "TgK = 4000\n",
    "P_outlet = 0.0\n",
    "mu_n = cmf.viscosity(TgK,'Xe',units='Pa-s')\n",
    "Lo = 0.74 # mm\n",
    "do = 1.02 # mm\n",
    "dc = 3.8 # mm\n",
    "Lc = 25.4 # mm\n",
    "mdotvec = np.array([2.47,2.47,2.81,3.7])\n",
    "for mdot in mdotvec:\n",
    "    Po = cmf.poiseuille_flow(Lo*1e-3, do*1e-3, mdot, TgK, P_outlet, species='Xe')\n",
    "    Pu = cmf.poiseuille_flow(Lc*1e-3, dc*1e-3, mdot, TgK, Po, species='Xe')\n",
    "    Pud = cmf.modified_poiseuille_flow(Lo*1e-3,do*1e-3,mdot,TgK)\n",
    "    print(Pu,Pud)\n"
   ]
  },
  {
   "cell_type": "code",
   "execution_count": null,
   "metadata": {},
   "outputs": [],
   "source": [
    "# PLHC @ 2000 K\n",
    "TgK = 3000\n",
    "mu_n = cmf.viscosity(TgK,'Ar',units='Pa-s')\n",
    "Idvec = np.arange(100,301,25,dtype=np.float64)\n",
    "resvec = np.zeros_like(Idvec)\n",
    "for idx,Idv in enumerate(Idvec):\n",
    "    resvec[idx] = prod_Torr.subs([(Id,Idv),(Tg,TgK),(mdsccm,145),(Locm,0.15),(Mamu,39.948),(eps,15.7596),(mu,mu_n),(dccm,2.715),(docm,0.56)])\n",
    "    print(Idv,resvec[idx])\n",
    "    \n",
    "Lo = 1.5e-3\n",
    "do = 5.6e-3\n",
    "mdot = 145\n",
    "Ppois = cmf.poiseuille_flow(Lo, do, mdot, TgK, 0, species='Ar')\n",
    "Pdom = cmf.modified_poiseuille_flow(Lo,do,mdot,TgK)\n",
    "print(Ppois,Pdom)"
   ]
  },
  {
   "cell_type": "code",
   "execution_count": null,
   "metadata": {},
   "outputs": [],
   "source": [
    "mu_n"
   ]
  },
  {
   "cell_type": "code",
   "execution_count": null,
   "metadata": {},
   "outputs": [],
   "source": [
    "# NEXIS @ 3000 K\n",
    "TgK = 3000\n",
    "mu_n = cmf.viscosity(TgK,'Xe',units='Pa-s')\n",
    "Idvec = np.linspace(8,26,10)\n",
    "resvec = np.zeros_like(Idvec)\n",
    "for idx,Idv in enumerate(Idvec):\n",
    "    resvec[idx] = prod_Torr.subs([(Id,Idv),(Tg,TgK),(mdsccm,5.5),(Locm,0.074),(Mamu,131.293),(eps,12.198),(mu,mu_n),(dccm,1.27),(docm,0.275)])\n",
    "    print(Idv,resvec[idx])\n",
    "    \n",
    "Lo = 0.74e-3\n",
    "do = 2.75e-3\n",
    "mdot = 5.5\n",
    "Ppois = cmf.poiseuille_flow(Lo, do, mdot, TgK, 0, species='Ar')\n",
    "Pdom = cmf.modified_poiseuille_flow(Lo,do,mdot,TgK)\n",
    "print(Ppois,Pdom)"
   ]
  },
  {
   "cell_type": "code",
   "execution_count": null,
   "metadata": {
    "collapsed": true
   },
   "outputs": [],
   "source": []
  }
 ],
 "metadata": {
  "kernelspec": {
   "display_name": "Python 3",
   "language": "python",
   "name": "python3"
  },
  "language_info": {
   "codemirror_mode": {
    "name": "ipython",
    "version": 3
   },
   "file_extension": ".py",
   "mimetype": "text/x-python",
   "name": "python",
   "nbconvert_exporter": "python",
   "pygments_lexer": "ipython3",
   "version": "3.5.2"
  }
 },
 "nbformat": 4,
 "nbformat_minor": 2
}
