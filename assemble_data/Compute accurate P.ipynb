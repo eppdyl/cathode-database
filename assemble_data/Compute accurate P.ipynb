{
 "cells": [
  {
   "cell_type": "code",
   "execution_count": 19,
   "metadata": {
    "collapsed": true
   },
   "outputs": [],
   "source": [
    "%matplotlib inline\n",
    "from sympy import *\n",
    "init_printing(use_latex=True)\n",
    "import mpmath"
   ]
  },
  {
   "cell_type": "code",
   "execution_count": 43,
   "metadata": {
    "collapsed": true
   },
   "outputs": [],
   "source": [
    "P,do,dc,q,mdot,Id,mu,mu0,eps,a,M,Lo,pi = symbols('P,d_o,d_c,q,\\dot{m},I_d,\\mu,\\mu0,\\epsilon,a,M,L_o,\\pi',real=True,positive=True)"
   ]
  },
  {
   "cell_type": "code",
   "execution_count": 21,
   "metadata": {
    "collapsed": true
   },
   "outputs": [],
   "source": [
    "a1,b1,c1,d1,e1,f1 = symbols('a1,b1,c1,d1,e1,f1',real=True)"
   ]
  },
  {
   "cell_type": "code",
   "execution_count": 22,
   "metadata": {
    "collapsed": true
   },
   "outputs": [],
   "source": [
    "PI1 = (P/(mu0*Id**2/(pi**2*do**2)))\n",
    "PI2 = (do/dc)\n",
    "PI3 = (do/Lo)\n",
    "PI4 = ((mdot*q/(M*Id))**2 * (M*do/(mu0*q**2)))\n",
    "PI5 = (mdot*a/(mu0*Id**2)) * 4*pi\n",
    "PI6 = (q*eps/(do**2*Lo))*1/(mu0*Id**2/do**2) * (Lo/do) * 4*pi\n",
    "PI7 = (mdot/(pi*(do/2)**2)*do/mu)\n",
    "\n",
    "\n",
    "\n"
   ]
  },
  {
   "cell_type": "code",
   "execution_count": 23,
   "metadata": {
    "collapsed": true
   },
   "outputs": [],
   "source": [
    "#e1 = 1.44712412817975577539\n",
    "#e2 = -0.11091843726897565592\n",
    "#e3 = -1.02474104747362382284\n",
    "#e4 = 2.25572338431441021811\n",
    "#e5 = -0.35553883591005885911\n",
    "#e6 = 0.22139953816031118783\n",
    "\n",
    "### LEAST SQUARES METHOD\n",
    "e1 = 0.79190862621816449\n",
    "e2 = 0.23399892594775878\n",
    "e3 = -0.22954590062564012\n",
    "e4 = 0.73078608503690878\n",
    "e5 = 0.29823417580302758\n",
    "e6= 0.41202315150140373\n",
    "Cfit_l = 13255363.148496266\n",
    "  \n",
    "\n",
    "prod = (mu0*Id**2.0/(pi**2.0*do**2.0))*PI2**e1*PI3**e2*PI4**e3*PI5**e4*PI6**e5*PI7**e6"
   ]
  },
  {
   "cell_type": "code",
   "execution_count": 24,
   "metadata": {
    "collapsed": true
   },
   "outputs": [],
   "source": [
    "import cathode.constants as cs\n",
    "import cathode.models.flow as cmf\n",
    "import numpy as np"
   ]
  },
  {
   "cell_type": "code",
   "execution_count": 29,
   "metadata": {},
   "outputs": [
    {
     "data": {
      "image/png": "[encoded data removed]",
      "text/latex": [
       "$\\displaystyle \\frac{1.7457276634702 \\cdot 10^{-8} I_{d}^{0.401051279571408} Tg^{0.365393042518454} \\dot{m}^{0.683717435287032} \\epsilon^{0.298234175803028}}{L_{o}^{0.233998925947759} M^{0.135847141892814} \\mu^{0.412023151501404} d_{c}^{0.791908626218164} d_{o}^{1.91389567576415}}$"
      ],
      "text/plain": [
       "                      0.401051279571408   -0.233998925947759  -0.1358471418928\n",
       "1.7457276634702e-8⋅I_d                 ⋅Lₒ                  ⋅M                \n",
       "\n",
       "14   0.365393042518454        0.683717435287032         0.298234175803028    -\n",
       "  ⋅Tg                 ⋅\\dot{m}                 ⋅\\epsilon                 ⋅\\mu \n",
       "\n",
       "0.412023151501404    -0.791908626218164   -1.91389567576415\n",
       "                 ⋅d_c                  ⋅dₒ                 "
      ]
     },
     "execution_count": 29,
     "metadata": {},
     "output_type": "execute_result"
    }
   ],
   "source": [
    "gam,kb,Tg,Mamu,C_fit = symbols('\\gamma,k_B,Tg,M_a,C_f',real=True,positive=True)\n",
    "prod_noa = C_fit*prod.subs(a,sqrt(gam*kb/M*Tg))\n",
    "#prod_noa = C_fit*prod.subs(a,sqrt(gam*cs.gas_constant*1e3/(M/cs.atomic_mass)*Tg))\n",
    "prod_noa.subs([(mu0,4*np.pi*10**(-7)),(q,cs.e),(pi,np.pi),(gam,5/3),(kb,cs.Boltzmann),(C_fit,Cfit_l)])"
   ]
  },
  {
   "cell_type": "code",
   "execution_count": 33,
   "metadata": {
    "collapsed": true
   },
   "outputs": [],
   "source": [
    "prod_SI = prod_noa.subs([(mu0,4*np.pi*10**(-7)),(q,cs.e),(pi,np.pi),(gam,5/3),(kb,cs.Boltzmann),(C_fit,Cfit_l)])"
   ]
  },
  {
   "cell_type": "code",
   "execution_count": 26,
   "metadata": {
    "collapsed": true
   },
   "outputs": [],
   "source": [
    "Locm,docm,dccm,mdsccm = symbols('L_{ocm},d_{ocm},d_{ccm},\\dot{m}_s')\n",
    "prod_Torr = prod_SI.subs([(mdot,mdsccm*0.07174496*M/cs.e),(M,Mamu*cs.atomic_mass),(do,docm*1e-2),(dc,dccm*1e-2),(Lo,Locm*1e-2)])*760/101325"
   ]
  },
  {
   "cell_type": "code",
   "execution_count": 12,
   "metadata": {},
   "outputs": [
    {
     "data": {
      "image/png": "[encoded data removed]",
      "text/latex": [
       "$\\displaystyle 13.5267202927599$"
      ],
      "text/plain": [
       "13.5267202927599"
      ]
     },
     "execution_count": 12,
     "metadata": {},
     "output_type": "execute_result"
    }
   ],
   "source": [
    "prod_Torr.subs([(Id,10),(Tg,4443.663),(mdsccm,10),(Locm,0.074),(Mamu,131.293),(eps,12.1298),(mu,1.6538e-4),(dccm,0.38),(docm,0.104)])"
   ]
  },
  {
   "cell_type": "code",
   "execution_count": 34,
   "metadata": {},
   "outputs": [
    {
     "data": {
      "image/png": "[encoded data removed]",
      "text/latex": [
       "$\\displaystyle \\frac{2.47287280477684 \\cdot 10^{-7} I_{d}^{0.401051279571408} M_{a}^{0.547870293394218} Tg^{0.365393042518454} \\dot{m}_s^{0.683717435287032} \\epsilon^{0.298234175803028}}{L_{ocm}^{0.233998925947759} \\mu^{0.412023151501404} d_{ccm}^{0.791908626218164} d_{ocm}^{1.91389567576415}}$"
      ],
      "text/plain": [
       "                       0.401051279571408        -0.233998925947759   0.5478702\n",
       "2.47287280477684e-7⋅I_d                 ⋅L_{ocm}                  ⋅Mₐ         \n",
       "\n",
       "93394218   0.365393042518454         0.683717435287032         0.2982341758030\n",
       "        ⋅Tg                 ⋅\\dot{m}ₛ                 ⋅\\epsilon               \n",
       "\n",
       "28    -0.412023151501404        -0.791908626218164        -1.91389567576415\n",
       "  ⋅\\mu                  ⋅d_{ccm}                  ⋅d_{ocm}                 "
      ]
     },
     "execution_count": 34,
     "metadata": {},
     "output_type": "execute_result"
    }
   ],
   "source": [
    "prod_Torr = prod_SI.subs([(mdot,mdsccm*0.07174496*M/cs.e),(M,Mamu*cs.atomic_mass),(do,docm*1e-2),(dc,dccm*1e-2),(Lo,Locm*1e-2)])*760/101325\n",
    "prod_Torr"
   ]
  },
  {
   "cell_type": "code",
   "execution_count": 35,
   "metadata": {},
   "outputs": [
    {
     "data": {
      "image/png": "[encoded data removed]",
      "text/latex": [
       "$\\displaystyle 1.3490951023804$"
      ],
      "text/plain": [
       "1.34909510238040"
      ]
     },
     "execution_count": 35,
     "metadata": {},
     "output_type": "execute_result"
    }
   ],
   "source": [
    "mu_n = cmf.viscosity(3000,'Xe',units='Pa-s')\n",
    "prod_Torr.subs([(Id,22),(Tg,3000),(mdsccm,5.5),(Locm,0.074),(Mamu,131.293),(eps,12.128),(mu,mu_n),(dccm,1.27),(docm,0.25)])"
   ]
  },
  {
   "cell_type": "code",
   "execution_count": 15,
   "metadata": {},
   "outputs": [
    {
     "data": {
      "image/png": "[encoded data removed]",
      "text/latex": [
       "$\\displaystyle 0.0001284256661054216$"
      ],
      "text/plain": [
       "0.0001284256661054216"
      ]
     },
     "execution_count": 15,
     "metadata": {},
     "output_type": "execute_result"
    }
   ],
   "source": [
    "mu_n"
   ]
  },
  {
   "cell_type": "code",
   "execution_count": 36,
   "metadata": {},
   "outputs": [
    {
     "data": {
      "image/png": "[encoded data removed]",
      "text/latex": [
       "$\\displaystyle 1.34909514029386$"
      ],
      "text/plain": [
       "1.34909514029386"
      ]
     },
     "execution_count": 36,
     "metadata": {},
     "output_type": "execute_result"
    }
   ],
   "source": [
    "mdot_sccm = 5.5\n",
    "M_n = 131.293*cs.atomic_mass\n",
    "mdot_n = mdot_sccm *M_n/cs.e * cs.sccm2eqA\n",
    "prod_SI.subs([(Id,22),(Tg,3000),(mdot,mdot_n),(Lo,0.74e-3),(M,M_n),(eps,12.128),(mu,mu_n),(dc,1.27e-2),(do,2.5e-3)])*760/101325"
   ]
  },
  {
   "cell_type": "code",
   "execution_count": 37,
   "metadata": {},
   "outputs": [
    {
     "data": {
      "image/png": "[encoded data removed]",
      "text/latex": [
       "$\\displaystyle \\frac{1.7457276634702 \\cdot 10^{-8} I_{d}^{0.401051279571408} Tg^{0.365393042518454} \\dot{m}^{0.683717435287032} \\epsilon^{0.298234175803028}}{L_{o}^{0.233998925947759} M^{0.135847141892814} \\mu^{0.412023151501404} d_{c}^{0.791908626218164} d_{o}^{1.91389567576415}}$"
      ],
      "text/plain": [
       "                      0.401051279571408   -0.233998925947759  -0.1358471418928\n",
       "1.7457276634702e-8⋅I_d                 ⋅Lₒ                  ⋅M                \n",
       "\n",
       "14   0.365393042518454        0.683717435287032         0.298234175803028    -\n",
       "  ⋅Tg                 ⋅\\dot{m}                 ⋅\\epsilon                 ⋅\\mu \n",
       "\n",
       "0.412023151501404    -0.791908626218164   -1.91389567576415\n",
       "                 ⋅d_c                  ⋅dₒ                 "
      ]
     },
     "execution_count": 37,
     "metadata": {},
     "output_type": "execute_result"
    }
   ],
   "source": [
    "prod_SI"
   ]
  },
  {
   "cell_type": "code",
   "execution_count": 51,
   "metadata": {},
   "outputs": [
    {
     "name": "stdout",
     "output_type": "stream",
     "text": [
      "5.0 0.766385220512\n",
      "6.0 0.824523163677\n",
      "7.0 0.877105746998\n",
      "8.0 0.925357823644\n",
      "9.0 0.970117827961\n",
      "10.0 1.01198851996\n",
      "11.0 1.05141985803\n",
      "12.0 1.08875791671\n",
      "13.0 1.12427541305\n",
      "14.0 1.15819162869\n",
      "15.0 1.19068589962\n",
      "16.0 1.2219070375\n",
      "17.0 1.25198008493\n",
      "18.0 1.28101127034\n",
      "19.0 1.30909171477\n",
      "20.0 1.33630025359\n",
      "21.0 1.36270561784\n",
      "22.0 1.38836814372\n",
      "23.0 1.41334112906\n",
      "24.0 1.43767192167\n",
      "25.0 1.46140280149\n",
      "26.0 1.48457170209\n",
      "27.0 1.50721280605\n",
      "28.0 1.52935703974\n",
      "29.0 1.55103248779\n",
      "30.0 1.57226474237\n"
     ]
    }
   ],
   "source": [
    "mu_n = cmf.viscosity(4000,'Xe',units='Pa-s')\n",
    "Idvec = np.arange(5.0,31.0,1)\n",
    "resvec = np.zeros_like(Idvec)\n",
    "for idx,Idv in enumerate(Idvec):\n",
    "    resvec[idx] = prod_Torr.subs([(Id,Idv),(Tg,4000),(mdsccm,5.5),(Locm,0.074),(Mamu,131.293),(eps,12.128),(mu,mu_n),(dccm,1.27),(docm,0.25)])\n",
    "    print(Idv,resvec[idx])"
   ]
  },
  {
   "cell_type": "code",
   "execution_count": 47,
   "metadata": {},
   "outputs": [
    {
     "name": "stdout",
     "output_type": "stream",
     "text": [
      "4.0 1.08513207194\n",
      "5.0 1.26398425793\n",
      "6.0 1.43178979804\n",
      "7.0 1.59093322202\n",
      "8.0 1.74301873892\n",
      "9.0 1.88919125956\n",
      "10.0 2.03030424061\n",
      "11.0 2.16701552268\n"
     ]
    }
   ],
   "source": [
    "mu_n = cmf.viscosity(3000,'Xe',units='Pa-s')\n",
    "mdotvec = np.arange(4.0,12.0,1)\n",
    "resvec = np.zeros_like(mdotvec)\n",
    "for idx,mdot in enumerate(mdotvec):\n",
    "    resvec[idx] = prod_Torr.subs([(Id,22),(Tg,3000),(mdsccm,mdot),(Locm,0.074),(Mamu,131.293),(eps,12.128),(mu,mu_n),(dccm,1.27),(docm,0.25)])\n",
    "    print(mdot,resvec[idx])"
   ]
  },
  {
   "cell_type": "code",
   "execution_count": 49,
   "metadata": {
    "scrolled": false
   },
   "outputs": [
    {
     "name": "stdout",
     "output_type": "stream",
     "text": [
      "4.0 1.11672097671\n",
      "5.0 1.30077966689\n",
      "6.0 1.47347013609\n",
      "7.0 1.6372463293\n",
      "8.0 1.79375915513\n",
      "9.0 1.9441868535\n",
      "10.0 2.08940772578\n",
      "11.0 2.23009876274\n"
     ]
    }
   ],
   "source": [
    "mu_n = cmf.viscosity(4000,'Xe',units='Pa-s')\n",
    "mdotvec = np.arange(4.0,12.0,1)\n",
    "resvec = np.zeros_like(mdotvec)\n",
    "for idx,mdot in enumerate(mdotvec):\n",
    "    resvec[idx] = prod_Torr.subs([(Id,22),(Tg,4000),(mdsccm,mdot),(Locm,0.074),(Mamu,131.293),(eps,12.128),(mu,mu_n),(dccm,1.27),(docm,0.25)])\n",
    "    print(mdot,resvec[idx])"
   ]
  },
  {
   "cell_type": "code",
   "execution_count": null,
   "metadata": {
    "collapsed": true
   },
   "outputs": [],
   "source": []
  }
 ],
 "metadata": {
  "kernelspec": {
   "display_name": "Python 3",
   "language": "python",
   "name": "python3"
  },
  "language_info": {
   "codemirror_mode": {
    "name": "ipython",
    "version": 3
   },
   "file_extension": ".py",
   "mimetype": "text/x-python",
   "name": "python",
   "nbconvert_exporter": "python",
   "pygments_lexer": "ipython3",
   "version": "3.5.2"
  }
 },
 "nbformat": 4,
 "nbformat_minor": 2
}
